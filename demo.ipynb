{
 "cells": [
  {
   "cell_type": "code",
   "execution_count": 10,
   "source": [
    "import boto3\r\n",
    "\r\n",
    "s3 = boto3.resource('s3')\r\n",
    "bucket = s3.Bucket(\"xetra-report\")"
   ],
   "outputs": [],
   "metadata": {}
  },
  {
   "cell_type": "code",
   "execution_count": 25,
   "source": [
    "keys = [obj.key for obj in bucket.objects.filter(Prefix = \"daily/\")]\r\n"
   ],
   "outputs": [],
   "metadata": {}
  },
  {
   "cell_type": "code",
   "execution_count": 23,
   "source": [
    "import yaml\r\n",
    "with open(\"./configs/config.yaml\") as f:\r\n",
    "    config = yaml.safe_load(f)\r\n",
    "trg_prefix = config[\"target\"][\"trg_prefix\"]"
   ],
   "outputs": [],
   "metadata": {}
  },
  {
   "cell_type": "code",
   "execution_count": 30,
   "source": [
    "\r\n",
    "\r\n",
    "keys = [obj.key for obj in bucket.objects.filter(Prefix = \"daily\")]\r\n",
    "keys"
   ],
   "outputs": [
    {
     "output_type": "execute_result",
     "data": {
      "text/plain": [
       "['daily/2021-09-13.parquet']"
      ]
     },
     "metadata": {},
     "execution_count": 30
    }
   ],
   "metadata": {}
  },
  {
   "cell_type": "code",
   "execution_count": 35,
   "source": [
    "from datetime import datetime\r\n",
    "datetime.today().strftime(\"%Y-%m-%d\")"
   ],
   "outputs": [
    {
     "output_type": "execute_result",
     "data": {
      "text/plain": [
       "'2021-09-18'"
      ]
     },
     "metadata": {},
     "execution_count": 35
    }
   ],
   "metadata": {}
  },
  {
   "cell_type": "code",
   "execution_count": 36,
   "source": [
    "set([1, 1, 2, 3])"
   ],
   "outputs": [
    {
     "output_type": "execute_result",
     "data": {
      "text/plain": [
       "{1, 2, 3}"
      ]
     },
     "metadata": {},
     "execution_count": 36
    }
   ],
   "metadata": {}
  }
 ],
 "metadata": {
  "orig_nbformat": 4,
  "language_info": {
   "name": "python",
   "version": "3.9.0",
   "mimetype": "text/x-python",
   "codemirror_mode": {
    "name": "ipython",
    "version": 3
   },
   "pygments_lexer": "ipython3",
   "nbconvert_exporter": "python",
   "file_extension": ".py"
  },
  "kernelspec": {
   "name": "python3",
   "display_name": "Python 3.9.0 64-bit ('venv': venv)"
  },
  "interpreter": {
   "hash": "720a3352113f4a3cb17162e3c0fea9ebec46a649ce3120f10b3554079ee32b5f"
  }
 },
 "nbformat": 4,
 "nbformat_minor": 2
}
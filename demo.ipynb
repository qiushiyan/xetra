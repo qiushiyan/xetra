{
 "cells": [
  {
   "cell_type": "code",
   "execution_count": 10,
   "source": [
    "import boto3\r\n",
    "\r\n",
    "s3 = boto3.resource('s3')\r\n",
    "bucket = s3.Bucket(\"xetra-report\")"
   ],
   "outputs": [],
   "metadata": {}
  },
  {
   "cell_type": "code",
   "execution_count": 25,
   "source": [
    "keys = [obj.key for obj in bucket.objects.filter(Prefix = \"daily/\")]\r\n"
   ],
   "outputs": [],
   "metadata": {}
  },
  {
   "cell_type": "code",
   "execution_count": 23,
   "source": [
    "import yaml\r\n",
    "with open(\"./configs/config.yaml\") as f:\r\n",
    "    config = yaml.safe_load(f)\r\n",
    "trg_prefix = config[\"target\"][\"trg_prefix\"]"
   ],
   "outputs": [],
   "metadata": {}
  },
  {
   "cell_type": "code",
   "execution_count": 30,
   "source": [
    "\r\n",
    "\r\n",
    "keys = [obj.key for obj in bucket.objects.filter(Prefix = \"daily\")]\r\n",
    "keys"
   ],
   "outputs": [
    {
     "output_type": "execute_result",
     "data": {
      "text/plain": [
       "['daily/2021-09-13.parquet']"
      ]
     },
     "metadata": {},
     "execution_count": 30
    }
   ],
   "metadata": {}
  },
  {
   "cell_type": "code",
   "execution_count": 35,
   "source": [
    "from datetime import datetime\r\n",
    "datetime.today().strftime(\"%Y-%m-%d\")"
   ],
   "outputs": [
    {
     "output_type": "execute_result",
     "data": {
      "text/plain": [
       "'2021-09-18'"
      ]
     },
     "metadata": {},
     "execution_count": 35
    }
   ],
   "metadata": {}
  },
  {
   "cell_type": "code",
   "execution_count": 34,
   "source": [
    "bucket\r\n",
    "import re\r\n",
    "from datetime import datetime\r\n",
    "def list_existing_target_dates(bucket):\r\n",
    "    trg_prefix = \"daily\"\r\n",
    "    existing_keys = [\r\n",
    "        obj.key for obj in bucket.objects.filter(Prefix=trg_prefix)]\r\n",
    "    existing_dates = []\r\n",
    "    for key in existing_keys:\r\n",
    "        m = re.search(r'(\\d+-\\d+-\\d+)', key)\r\n",
    "        date = m.group(1)\r\n",
    "        if date not in existing_dates:\r\n",
    "            existing_dates.append(date)\r\n",
    "    return existing_dates\r\n"
   ],
   "outputs": [],
   "metadata": {}
  },
  {
   "cell_type": "code",
   "execution_count": 35,
   "source": [
    "list_existing_target_dates(bucket)"
   ],
   "outputs": [
    {
     "output_type": "execute_result",
     "data": {
      "text/plain": [
       "['2021-09-13']"
      ]
     },
     "metadata": {},
     "execution_count": 35
    }
   ],
   "metadata": {}
  },
  {
   "cell_type": "code",
   "execution_count": 36,
   "source": [
    "import pandas as pd\r\n",
    "from io import StringIO\r\n",
    "\r\n",
    "existing_dates = list_existing_target_dates(bucket)\r\n",
    "df = pd.DataFrame(columns=[\"date\", \"processing_time\"])\r\n",
    "df[\"date\"] = existing_dates\r\n",
    "df[\"processing_time\"] = \\\r\n",
    "    datetime.today().strftime(\"%Y-%m-%d %H:%M:%S\")\r\n",
    "out_buffer = StringIO()\r\n",
    "df.to_csv(out_buffer, index=False)\r\n",
    "bucket.put_object(Body = out_buffer.getvalue(), Key = \"meta.csv\")"
   ],
   "outputs": [
    {
     "output_type": "execute_result",
     "data": {
      "text/plain": [
       "s3.Object(bucket_name='xetra-report', key='meta.csv')"
      ]
     },
     "metadata": {},
     "execution_count": 36
    }
   ],
   "metadata": {}
  },
  {
   "cell_type": "code",
   "execution_count": 17,
   "source": [
    "import os \r\n",
    "session = boto3.Session(aws_access_key_id=os.environ[\"aws_access_key\"],\r\n",
    "                                     aws_secret_access_key=os.environ[\"aws_secret_access_key\"])\r\n",
    "s3_client = session.resource(\r\n",
    "    service_name='s3')"
   ],
   "outputs": [],
   "metadata": {}
  },
  {
   "cell_type": "code",
   "execution_count": 27,
   "source": [
    "bucket = s3_client.Bucket(\"xetra-report\")\r\n",
    "bucket.Object(key=\"meta.csv\").delete()"
   ],
   "outputs": [
    {
     "output_type": "execute_result",
     "data": {
      "text/plain": [
       "{'ResponseMetadata': {'RequestId': 'VV4B2VW846RN7V0N',\n",
       "  'HostId': '8kHPyQTAIEt9PWe/ZkRGw6GWu5xVDFvwwGHcM9WJwfgFyTy46/avB+xYr2VGK27uh188jdGev1c=',\n",
       "  'HTTPStatusCode': 204,\n",
       "  'HTTPHeaders': {'x-amz-id-2': '8kHPyQTAIEt9PWe/ZkRGw6GWu5xVDFvwwGHcM9WJwfgFyTy46/avB+xYr2VGK27uh188jdGev1c=',\n",
       "   'x-amz-request-id': 'VV4B2VW846RN7V0N',\n",
       "   'date': 'Sun, 19 Sep 2021 16:14:21 GMT',\n",
       "   'server': 'AmazonS3'},\n",
       "  'RetryAttempts': 0}}"
      ]
     },
     "metadata": {},
     "execution_count": 27
    }
   ],
   "metadata": {}
  },
  {
   "cell_type": "code",
   "execution_count": 40,
   "source": [
    "for obj in bucket.objects.filter(Prefix = \"daily\"):\r\n",
    "    print(obj.key)"
   ],
   "outputs": [
    {
     "output_type": "stream",
     "name": "stdout",
     "text": [
      "daily/2021-09-13.parquet\n"
     ]
    }
   ],
   "metadata": {}
  },
  {
   "cell_type": "code",
   "execution_count": 45,
   "source": [
    "df = pd.DataFrame(columns = [\"A\", \"B\"])\r\n",
    "pd.concat([df, None])"
   ],
   "outputs": [
    {
     "output_type": "execute_result",
     "data": {
      "text/html": [
       "<div>\n",
       "<style scoped>\n",
       "    .dataframe tbody tr th:only-of-type {\n",
       "        vertical-align: middle;\n",
       "    }\n",
       "\n",
       "    .dataframe tbody tr th {\n",
       "        vertical-align: top;\n",
       "    }\n",
       "\n",
       "    .dataframe thead th {\n",
       "        text-align: right;\n",
       "    }\n",
       "</style>\n",
       "<table border=\"1\" class=\"dataframe\">\n",
       "  <thead>\n",
       "    <tr style=\"text-align: right;\">\n",
       "      <th></th>\n",
       "      <th>A</th>\n",
       "      <th>B</th>\n",
       "    </tr>\n",
       "  </thead>\n",
       "  <tbody>\n",
       "  </tbody>\n",
       "</table>\n",
       "</div>"
      ],
      "text/plain": [
       "Empty DataFrame\n",
       "Columns: [A, B]\n",
       "Index: []"
      ]
     },
     "metadata": {},
     "execution_count": 45
    }
   ],
   "metadata": {}
  }
 ],
 "metadata": {
  "orig_nbformat": 4,
  "language_info": {
   "name": "python",
   "version": "3.9.0",
   "mimetype": "text/x-python",
   "codemirror_mode": {
    "name": "ipython",
    "version": 3
   },
   "pygments_lexer": "ipython3",
   "nbconvert_exporter": "python",
   "file_extension": ".py"
  },
  "kernelspec": {
   "name": "python3",
   "display_name": "Python 3.9.0 64-bit ('venv': venv)"
  },
  "interpreter": {
   "hash": "720a3352113f4a3cb17162e3c0fea9ebec46a649ce3120f10b3554079ee32b5f"
  }
 },
 "nbformat": 4,
 "nbformat_minor": 2
}